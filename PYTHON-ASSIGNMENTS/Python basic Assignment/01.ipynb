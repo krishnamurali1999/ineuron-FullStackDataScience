{
 "cells": [
  {
   "cell_type": "code",
   "execution_count": null,
   "id": "cb21bbe7",
   "metadata": {},
   "outputs": [],
   "source": [
    "1. In the below elements which of them are values or an expression? eg:- values can be\n",
    "integer or string and expressions will be mathematical operators.\n",
    "\n",
    "    *          - expression     \n",
    "    \"hello\"    - value\n",
    "    -87.8      - value\n",
    "    -          - expression\n",
    "    /          - expression\n",
    "    +          - expression\n",
    "    6          - value"
   ]
  },
  {
   "cell_type": "code",
   "execution_count": null,
   "id": "95d9b81f",
   "metadata": {},
   "outputs": [],
   "source": [
    "2. What is the difference between string and variable?\n",
    "\n",
    "string   - It is a data type and can be stored in a variable for future use\n",
    "variable - These are used to hold the values"
   ]
  },
  {
   "cell_type": "code",
   "execution_count": null,
   "id": "fa63dd5d",
   "metadata": {},
   "outputs": [],
   "source": [
    "3. Describe three different data types.\n",
    "\n",
    "i. int - \n",
    "    numbers with no decimal point comes under int datatype. \n",
    "    Negative numbers can also included. \n",
    "    Represented by int class\n",
    "Eg: 8, 14, etc..\n",
    "\n",
    "ii. float - \n",
    "    floating points numbers comes under float datatype. \n",
    "    decimal point exists. \n",
    "    Represented by float class\n",
    "Eg: 1.24, 4.75\n",
    "\n",
    "iii. str - \n",
    "    It is a collection of one or more characters. \n",
    "Eg: \"hi\", \"J\", \"John\", \"1\", etc.."
   ]
  },
  {
   "cell_type": "code",
   "execution_count": null,
   "id": "46492957",
   "metadata": {},
   "outputs": [],
   "source": [
    "4. What is an expression made up of? What do all expressions do?\n"
   ]
  },
  {
   "cell_type": "code",
   "execution_count": null,
   "id": "65b92bbe",
   "metadata": {},
   "outputs": [],
   "source": [
    "5. This assignment statements, like spam = 10. What is the difference between an\n",
    "expression and a statement?\n",
    "\n"
   ]
  },
  {
   "cell_type": "code",
   "execution_count": null,
   "id": "42c49a08",
   "metadata": {},
   "outputs": [],
   "source": [
    "6. After running the following code, what does the variable bacon contain?\n",
    "bacon = 22\n",
    "bacon + 1\n",
    "\n"
   ]
  },
  {
   "cell_type": "code",
   "execution_count": 7,
   "id": "ff82276b",
   "metadata": {},
   "outputs": [
    {
     "name": "stdout",
     "output_type": "stream",
     "text": [
      "spamspamspam\n",
      "spamspamspam\n"
     ]
    }
   ],
   "source": [
    "# 7. What should the values of the following two terms be?\n",
    "#     i. \"spam\" + \"spamspam\"\n",
    "#     ii. \"spam\" * 3\n",
    "\n",
    "# Ans:\n",
    "i.  spamspamspam\n",
    "ii. spamspamspam\n"
   ]
  },
  {
   "cell_type": "code",
   "execution_count": null,
   "id": "7a9ce3aa",
   "metadata": {},
   "outputs": [],
   "source": [
    "8. Why is eggs a valid variable name while 100 is invalid?\n"
   ]
  },
  {
   "cell_type": "code",
   "execution_count": null,
   "id": "d4549c8b",
   "metadata": {},
   "outputs": [],
   "source": [
    "9. What three functions can be used to get the integer, floating-point number, or string\n",
    "version of a value?\n",
    "\n",
    "int()\n",
    "float()\n",
    "str()"
   ]
  },
  {
   "cell_type": "code",
   "execution_count": 5,
   "id": "66951205",
   "metadata": {},
   "outputs": [
    {
     "name": "stdout",
     "output_type": "stream",
     "text": [
      "I have eaten 99 burritos\n"
     ]
    }
   ],
   "source": [
    "# 10. Why does this expression cause an error? How can you fix it?\n",
    "# \"I have eaten\" + 99 + \"burritos\"\n",
    "\n",
    "\n",
    "# Ans:\n",
    "print(\"I have eaten \" + str(99) + \" burritos\")"
   ]
  },
  {
   "cell_type": "code",
   "execution_count": null,
   "id": "cbc80589",
   "metadata": {},
   "outputs": [],
   "source": []
  }
 ],
 "metadata": {
  "kernelspec": {
   "display_name": "Python 3",
   "language": "python",
   "name": "python3"
  },
  "language_info": {
   "codemirror_mode": {
    "name": "ipython",
    "version": 3
   },
   "file_extension": ".py",
   "mimetype": "text/x-python",
   "name": "python",
   "nbconvert_exporter": "python",
   "pygments_lexer": "ipython3",
   "version": "3.7.10"
  }
 },
 "nbformat": 4,
 "nbformat_minor": 5
}
