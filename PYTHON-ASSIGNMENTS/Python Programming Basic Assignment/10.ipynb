{
 "cells": [
  {
   "cell_type": "code",
   "execution_count": 3,
   "id": "4c6e9f64",
   "metadata": {},
   "outputs": [
    {
     "name": "stdout",
     "output_type": "stream",
     "text": [
      "Enter numbers with white spaces1 2 3 4 5\n",
      "SUM IS: 15\n",
      "SUM is 15\n"
     ]
    }
   ],
   "source": [
    "# 1. Write a Python program to find sum of elements in list?\n",
    "l = input(\"Enter numbers with white spaces\")\n",
    "l = l.split(\" \")\n",
    "l = list(map(int, l))\n",
    "\n",
    "s=0\n",
    "for i in l:\n",
    "    s += i\n",
    "print(f\"SUM IS: {s}\")\n",
    "\n",
    "\n",
    "\n",
    "\n",
    "# OR\n",
    "\n",
    "\n",
    "\n",
    "print(f\"SUM is {sum(l)}\")"
   ]
  },
  {
   "cell_type": "code",
   "execution_count": 4,
   "id": "abf949f5",
   "metadata": {},
   "outputs": [
    {
     "name": "stdout",
     "output_type": "stream",
     "text": [
      "Enter numbers with white spaces1 2 3 4 5\n",
      "SUM IS: 120\n"
     ]
    }
   ],
   "source": [
    "# 2. Write a Python program to Multiply all numbers in the list?\n",
    "l = input(\"Enter numbers with white spaces: \")\n",
    "l = l.split(\" \")\n",
    "l = list(map(int, l))\n",
    "\n",
    "m=1\n",
    "for i in l:\n",
    "    m *= i\n",
    "print(f\"SUM IS: {m}\")\n"
   ]
  },
  {
   "cell_type": "code",
   "execution_count": 6,
   "id": "02e01ecd",
   "metadata": {},
   "outputs": [
    {
     "name": "stdout",
     "output_type": "stream",
     "text": [
      "Enter numbers with white spaces2 3 4 5 8 1 12\n",
      " MINIMUM IS 1\n"
     ]
    }
   ],
   "source": [
    "# 3. Write a Python program to find smallest number in a list?\n",
    "l = input(\"Enter numbers with white spaces: \")\n",
    "l = l.split(\" \")\n",
    "l = list(map(int, l))\n",
    "\n",
    "print(f\"MINIMUM IS {min(l)}\")"
   ]
  },
  {
   "cell_type": "code",
   "execution_count": 7,
   "id": "e3dc46a0",
   "metadata": {},
   "outputs": [
    {
     "name": "stdout",
     "output_type": "stream",
     "text": [
      "Enter numbers with white spaces90 12 45 37 77 101 121 65 11 66\n",
      "MAXIMUM is 121\n"
     ]
    }
   ],
   "source": [
    "# 4. Write a Python program to find largest number in a list?\n",
    "l = input(\"Enter numbers with white spaces: \")\n",
    "l = l.split(\" \")\n",
    "l = list(map(int, l))\n",
    "\n",
    "print(f\"MAXIMUM is {max(l)}\")"
   ]
  },
  {
   "cell_type": "code",
   "execution_count": 5,
   "id": "d40fb91d",
   "metadata": {},
   "outputs": [
    {
     "name": "stdout",
     "output_type": "stream",
     "text": [
      "Enter numbers with white spaces: 1 2 3 5 6 74 77 53 88 23 87 34 22\n",
      "87\n"
     ]
    }
   ],
   "source": [
    "# 5. Write a Python program to find second largest number in a list?\n",
    "l = input(\"Enter numbers with white spaces: \")\n",
    "l = l.split(\" \")\n",
    "l = list(map(int, l))\n",
    "\n",
    "l.remove(max(l))\n",
    "\n",
    "print(max(l))"
   ]
  },
  {
   "cell_type": "code",
   "execution_count": 21,
   "id": "7f1349b4",
   "metadata": {},
   "outputs": [
    {
     "name": "stdout",
     "output_type": "stream",
     "text": [
      "Enter numbers with white spaces: 5 2 3 4 1 9 7 8 6\n",
      "enter n: 3\n",
      "9 8 7 "
     ]
    }
   ],
   "source": [
    "# 6. Write a Python program to find N largest elements from a list?\n",
    "l = input(\"Enter numbers with white spaces: \")\n",
    "l = l.split(\" \")\n",
    "l = list(map(int, l))\n",
    "\n",
    "n = int(input(\"enter n: \")) \n",
    "\n",
    "for i in range(n):\n",
    "    m = max(l)\n",
    "    print(m, end=\" \")\n",
    "    l.remove(m)"
   ]
  },
  {
   "cell_type": "code",
   "execution_count": 7,
   "id": "cbf6d6f1",
   "metadata": {},
   "outputs": [
    {
     "name": "stdout",
     "output_type": "stream",
     "text": [
      "Enter the numbers: 1 2 3 4 5 6 7 8 9 10\n",
      "[2, 4, 6, 8, 10]\n"
     ]
    }
   ],
   "source": [
    "# 7. Write a Python program to print even numbers in a list?\n",
    "\n",
    "l = input(\"Enter the numbers: \")\n",
    "l = l.split(\" \")\n",
    "l = list(map(int, l))\n",
    "\n",
    "res = []\n",
    "for i in l:\n",
    "    if i%2 == 0:\n",
    "        res.append(i)\n",
    "print(res)"
   ]
  },
  {
   "cell_type": "code",
   "execution_count": 8,
   "id": "3ad97d96",
   "metadata": {},
   "outputs": [
    {
     "name": "stdout",
     "output_type": "stream",
     "text": [
      "Enter the numbers: 1 2 3 4 5 6 7 8 9 10\n",
      "[1, 3, 5, 7, 9]\n"
     ]
    }
   ],
   "source": [
    "# 8. Write a Python program to print odd numbers in a List?\n",
    "l = input(\"Enter the numbers: \")\n",
    "l = l.split(\" \")\n",
    "l = list(map(int, l))\n",
    "\n",
    "res = []\n",
    "for i in l:\n",
    "    if i%2 != 0:\n",
    "        res.append(i)\n",
    "print(res)"
   ]
  },
  {
   "cell_type": "code",
   "execution_count": 16,
   "id": "0b691a3f",
   "metadata": {},
   "outputs": [
    {
     "name": "stdout",
     "output_type": "stream",
     "text": [
      "[]\n",
      "[]\n",
      "[]\n",
      "[]\n"
     ]
    }
   ],
   "source": [
    "# 9. Write a Python program to Remove empty List from List?\n",
    "l = [[],{},(), 1, 2, [10,11,12,13], (1,2,3) , {6,7,8}, [], [], {\"key\":\"value\"}, []]\n",
    "\n",
    "for i in l:\n",
    "    if type(i) == list and not i:\n",
    "        print(i)"
   ]
  },
  {
   "cell_type": "code",
   "execution_count": 18,
   "id": "f9a2ddbf",
   "metadata": {},
   "outputs": [
    {
     "name": "stdout",
     "output_type": "stream",
     "text": [
      "Enter: hi bye 1 2 3.45\n",
      "['hi', 'bye', '1', '2', '3.45']\n",
      "['hi', 'bye', '1', '2', '3.45']\n"
     ]
    }
   ],
   "source": [
    "# 10. Write a Python program to Cloning or Copying a list?\n",
    "l = input(\"Enter: \")\n",
    "l = l.split(\" \")\n",
    "\n",
    "copy_l = l.copy()\n",
    "# OR\n",
    "copy2_l = l[:]\n",
    "\n",
    "print(copy_l)\n",
    "print(copy2_l)"
   ]
  },
  {
   "cell_type": "code",
   "execution_count": 19,
   "id": "99423230",
   "metadata": {},
   "outputs": [
    {
     "name": "stdout",
     "output_type": "stream",
     "text": [
      "Enter the numbers: 1 2 2 2 3 3 4 5 6 2 1 4 5 5 8 2 4 9\n",
      "Enter the element: 2\n",
      "OCCURRENCE: 5\n"
     ]
    }
   ],
   "source": [
    "# 11. Write a Python program to Count occurrences of an element in a list?\n",
    "l = input(\"Enter the numbers: \")\n",
    "l = l.split(\" \")\n",
    "l = list(map(int, l))\n",
    "\n",
    "n = int(input(\"Enter the element: \"))\n",
    "\n",
    "print(f\"OCCURRENCE: {l.count(n)}\")"
   ]
  }
 ],
 "metadata": {
  "kernelspec": {
   "display_name": "Python 3",
   "language": "python",
   "name": "python3"
  },
  "language_info": {
   "codemirror_mode": {
    "name": "ipython",
    "version": 3
   },
   "file_extension": ".py",
   "mimetype": "text/x-python",
   "name": "python",
   "nbconvert_exporter": "python",
   "pygments_lexer": "ipython3",
   "version": "3.7.10"
  }
 },
 "nbformat": 4,
 "nbformat_minor": 5
}
