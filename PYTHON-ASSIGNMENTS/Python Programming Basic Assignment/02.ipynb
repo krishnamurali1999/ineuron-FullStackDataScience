{
 "cells": [
  {
   "cell_type": "code",
   "execution_count": 2,
   "id": "rolled-hacker",
   "metadata": {},
   "outputs": [
    {
     "name": "stdout",
     "output_type": "stream",
     "text": [
      "Enter the distance in kilometers: 5.5\n",
      "IN MILES: 3.4175405\n"
     ]
    }
   ],
   "source": [
    "# 1. Write a Python program to convert kilometers to miles?\n",
    "inp1 = float(input(\"Enter the distance in kilometers: \"))\n",
    "miles = inp1 * 0.621371\n",
    "print(f\"IN MILES: {miles}\")"
   ]
  },
  {
   "cell_type": "code",
   "execution_count": 3,
   "id": "reduced-frederick",
   "metadata": {},
   "outputs": [
    {
     "name": "stdout",
     "output_type": "stream",
     "text": [
      "Enter the temperature in celsius: 0\n",
      "IN FAHRENHEIT: 32.0\n"
     ]
    }
   ],
   "source": [
    "# 2. Write a Python program to convert Celsius to Fahrenheit?\n",
    "inp1 = float(input(\"Enter the temperature in celsius: \"))\n",
    "fahrenheit = (inp1 * 9/5) + 32\n",
    "print(f\"IN FAHRENHEIT: {fahrenheit}\")"
   ]
  },
  {
   "cell_type": "code",
   "execution_count": 4,
   "id": "respective-portable",
   "metadata": {},
   "outputs": [
    {
     "name": "stdout",
     "output_type": "stream",
     "text": [
      "Enter year: 2021\n",
      "Enter month: 08\n",
      "\n",
      "    August 2021\n",
      "Mo Tu We Th Fr Sa Su\n",
      "                   1\n",
      " 2  3  4  5  6  7  8\n",
      " 9 10 11 12 13 14 15\n",
      "16 17 18 19 20 21 22\n",
      "23 24 25 26 27 28 29\n",
      "30 31\n",
      "\n"
     ]
    }
   ],
   "source": [
    "# 3. Write a Python program to display calendar?\n",
    "import calendar as cr\n",
    "\n",
    "year = int(input(\"Enter year: \"))\n",
    "month = int(input(\"Enter month: \"))\n",
    "\n",
    "print()\n",
    "print(cr.month(year, month))"
   ]
  },
  {
   "cell_type": "code",
   "execution_count": 6,
   "id": "acceptable-atlanta",
   "metadata": {},
   "outputs": [
    {
     "name": "stdout",
     "output_type": "stream",
     "text": [
      "Enter a: -2\n",
      "Enter b: -3\n",
      "Enter c: -4\n",
      "\n",
      "The quadratic equation is (-2)x^2+(-3)x+(-4)\n",
      "\n",
      "The roots are\n",
      "(-0.75+1.4361406616345072j)\n",
      "(-0.75-1.4361406616345072j)\n"
     ]
    }
   ],
   "source": [
    "# 4. Write a Python program to solve quadratic equation?\n",
    "import cmath\n",
    "a = int(input(\"Enter a: \"))\n",
    "b = int(input(\"Enter b: \"))\n",
    "c = int(input(\"Enter c: \"))\n",
    "\n",
    "print(f\"\\nThe quadratic equation is ({a})x^2+({b})x+({c})\")\n",
    "\n",
    "d = (b**2) - (4 * a*c)\n",
    "  \n",
    "r1 = (-b - cmath.sqrt(d))/(2 * a)\n",
    "r2 = (-b + cmath.sqrt(d))/(2 * a)\n",
    "  \n",
    "print('\\nThe roots are')\n",
    "print(r1)\n",
    "print(r2)"
   ]
  },
  {
   "cell_type": "code",
   "execution_count": 7,
   "id": "attached-lexington",
   "metadata": {},
   "outputs": [
    {
     "name": "stdout",
     "output_type": "stream",
     "text": [
      "enter: john\n",
      "enter: ram\n",
      "BEFORE SWAPPING, inp1: john AND inp2: ram\n",
      "AFTER SWAPPING, inp1: ram AND inp2: john\n"
     ]
    }
   ],
   "source": [
    "# 5. Write a Python program to swap two variables without temp variable?\n",
    "inp1 = input(\"enter: \")\n",
    "inp2 = input(\"enter: \")\n",
    "\n",
    "print(f\"BEFORE SWAPPING, inp1: {inp1} AND inp2: {inp2}\")\n",
    "inp1, inp2 = inp2, inp1\n",
    "print(f\"AFTER SWAPPING, inp1: {inp1} AND inp2: {inp2}\")"
   ]
  },
  {
   "cell_type": "code",
   "execution_count": null,
   "id": "grand-information",
   "metadata": {},
   "outputs": [],
   "source": []
  }
 ],
 "metadata": {
  "kernelspec": {
   "display_name": "Python 3",
   "language": "python",
   "name": "python3"
  },
  "language_info": {
   "codemirror_mode": {
    "name": "ipython",
    "version": 3
   },
   "file_extension": ".py",
   "mimetype": "text/x-python",
   "name": "python",
   "nbconvert_exporter": "python",
   "pygments_lexer": "ipython3",
   "version": "3.7.10"
  }
 },
 "nbformat": 4,
 "nbformat_minor": 5
}
