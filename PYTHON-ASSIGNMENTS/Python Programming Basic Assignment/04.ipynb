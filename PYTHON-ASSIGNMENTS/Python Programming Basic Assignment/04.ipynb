{
 "cells": [
  {
   "cell_type": "code",
   "execution_count": 2,
   "id": "74a11e29",
   "metadata": {},
   "outputs": [
    {
     "name": "stdout",
     "output_type": "stream",
     "text": [
      "Enter the number: 5\n",
      "120\n"
     ]
    }
   ],
   "source": [
    "# 1. Write a Python Program to Find the Factorial of a Number?\n",
    "\n",
    "n = int(input(\"Enter the number: \"))\n",
    "res = 1\n",
    "for i in range(1, n+1):\n",
    "    res = res*i\n",
    "print(res)"
   ]
  },
  {
   "cell_type": "code",
   "execution_count": 1,
   "id": "53d733c5",
   "metadata": {},
   "outputs": [
    {
     "name": "stdout",
     "output_type": "stream",
     "text": [
      "Object `Table` not found.\n",
      "Enter the number: 3\n",
      "enter the end point: 10\n",
      "3*1=3\n",
      "3*2=6\n",
      "3*3=9\n",
      "3*4=12\n",
      "3*5=15\n",
      "3*6=18\n",
      "3*7=21\n",
      "3*8=24\n",
      "3*9=27\n",
      "3*10=30\n"
     ]
    }
   ],
   "source": [
    "# 2. Write a Python Program to Display the multiplication Table?\n",
    "\n",
    "n = int(input(\"Enter the number: \"))\n",
    "end = int(input(\"enter the end point: \"))\n",
    "for i in range(1, end+1):\n",
    "    print(f\"{n}*{i}={n*i}\")"
   ]
  },
  {
   "cell_type": "code",
   "execution_count": 17,
   "id": "db9d9ba8",
   "metadata": {},
   "outputs": [
    {
     "name": "stdout",
     "output_type": "stream",
     "text": [
      "Sequence length: 10\n",
      "0 1 1 2 3 5 8 13 21 34 "
     ]
    }
   ],
   "source": [
    "# 3. Write a Python Program to Print the Fibonacci sequence?\n",
    "n = int(input(\"Sequence length: \"))\n",
    "a, b = 0, 1\n",
    "\n",
    "i=0\n",
    "while(i<n):\n",
    "    print(a, end=\" \")\n",
    "    c = a+b\n",
    "    a, b = b, c\n",
    "    i+=1"
   ]
  },
  {
   "cell_type": "code",
   "execution_count": 10,
   "id": "05c8233a",
   "metadata": {},
   "outputs": [
    {
     "name": "stdout",
     "output_type": "stream",
     "text": [
      "Enter the number: 407\n",
      "407 is an Armstrong number\n"
     ]
    }
   ],
   "source": [
    "# 4. Write a Python Program to Check Armstrong Number?\n",
    "n = int(input(\"Enter the number: \"))\n",
    "\n",
    "power = len(str(n))\n",
    "\n",
    "s = 0\n",
    "\n",
    "temp = n\n",
    "while temp > 0:\n",
    "    d = temp % 10\n",
    "    s += d ** power\n",
    "    temp //= 10\n",
    "\n",
    "if n == s:\n",
    "    print(f\"{num} is an Armstrong number\")\n",
    "else:\n",
    "    print(f\"{num} is not an Armstrong number\")"
   ]
  },
  {
   "cell_type": "code",
   "execution_count": 14,
   "id": "d6cdd059",
   "metadata": {},
   "outputs": [
    {
     "name": "stdout",
     "output_type": "stream",
     "text": [
      "Enter the start point: 1\n",
      "Enter the end point: 1000\n",
      "1 2 3 4 5 6 7 8 9 153 370 371 407 "
     ]
    }
   ],
   "source": [
    "# 5. Write a Python Program to Find Armstrong Number in an Interval?\n",
    "start = int(input(\"Enter the start point: \"))\n",
    "end = int(input(\"Enter the end point: \"))\n",
    "\n",
    "def armstrong_number(num):\n",
    "    power = len(str(num))\n",
    "    s = 0\n",
    "    temp = num\n",
    "    \n",
    "    while temp > 0:\n",
    "        d = temp % 10\n",
    "        s += d ** power\n",
    "        temp //= 10\n",
    "\n",
    "    if num == s:\n",
    "        return True\n",
    "    else:\n",
    "        return False\n",
    "\n",
    "for i in range(start, end+1):\n",
    "    res = armstrong_number(i)\n",
    "    if res == True:\n",
    "        print(i, end=\" \")"
   ]
  },
  {
   "cell_type": "code",
   "execution_count": 16,
   "id": "5faef972",
   "metadata": {},
   "outputs": [
    {
     "name": "stdout",
     "output_type": "stream",
     "text": [
      "Enter the number: 10\n",
      "55.0\n"
     ]
    }
   ],
   "source": [
    "# 6. Write a Python Program to Find the Sum of Natural Numbers?\n",
    "n = int(input(\"Enter the number: \"))\n",
    "print((n*(n+1))/2)"
   ]
  },
  {
   "cell_type": "code",
   "execution_count": null,
   "id": "141413c2",
   "metadata": {},
   "outputs": [],
   "source": []
  }
 ],
 "metadata": {
  "kernelspec": {
   "display_name": "Python 3",
   "language": "python",
   "name": "python3"
  },
  "language_info": {
   "codemirror_mode": {
    "name": "ipython",
    "version": 3
   },
   "file_extension": ".py",
   "mimetype": "text/x-python",
   "name": "python",
   "nbconvert_exporter": "python",
   "pygments_lexer": "ipython3",
   "version": "3.7.10"
  }
 },
 "nbformat": 4,
 "nbformat_minor": 5
}
