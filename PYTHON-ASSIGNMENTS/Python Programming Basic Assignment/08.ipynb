{
 "cells": [
  {
   "cell_type": "code",
   "execution_count": 1,
   "id": "15590f6c",
   "metadata": {},
   "outputs": [],
   "source": [
    "# 1. Write a Python Program to Add Two Matrices?\n",
    "\n",
    "mat1 = [[1,2,3],[4,5,6],[7,8,9]]\n",
    "mat2 = [[1,2,3],[4,5,6],[7,8,9]]\n",
    "len"
   ]
  },
  {
   "cell_type": "code",
   "execution_count": null,
   "id": "144aa144",
   "metadata": {},
   "outputs": [],
   "source": [
    "# 2. Write a Python Program to Multiply Two Matrices?\n"
   ]
  },
  {
   "cell_type": "code",
   "execution_count": null,
   "id": "a665e9e4",
   "metadata": {},
   "outputs": [],
   "source": [
    "# 3. Write a Python Program to Transpose a Matrix?\n"
   ]
  },
  {
   "cell_type": "code",
   "execution_count": null,
   "id": "600a9b4a",
   "metadata": {},
   "outputs": [],
   "source": [
    "# 4. Write a Python Program to Sort Words in Alphabetic Order?\n"
   ]
  },
  {
   "cell_type": "code",
   "execution_count": null,
   "id": "fcfefd94",
   "metadata": {},
   "outputs": [],
   "source": [
    "# 5. Write a Python Program to Remove Punctuation From a String?\n"
   ]
  },
  {
   "cell_type": "code",
   "execution_count": null,
   "id": "2a914c3a",
   "metadata": {},
   "outputs": [],
   "source": []
  }
 ],
 "metadata": {
  "kernelspec": {
   "display_name": "Python 3",
   "language": "python",
   "name": "python3"
  },
  "language_info": {
   "codemirror_mode": {
    "name": "ipython",
    "version": 3
   },
   "file_extension": ".py",
   "mimetype": "text/x-python",
   "name": "python",
   "nbconvert_exporter": "python",
   "pygments_lexer": "ipython3",
   "version": "3.7.10"
  }
 },
 "nbformat": 4,
 "nbformat_minor": 5
}
