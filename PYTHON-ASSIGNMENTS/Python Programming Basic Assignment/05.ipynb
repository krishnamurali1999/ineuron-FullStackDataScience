{
 "cells": [
  {
   "cell_type": "code",
   "execution_count": 4,
   "id": "97ec7466",
   "metadata": {},
   "outputs": [
    {
     "name": "stdout",
     "output_type": "stream",
     "text": [
      "2\n",
      "8\n",
      "8\n"
     ]
    }
   ],
   "source": [
    "# 1. Write a Python Program to Find LCM?\n",
    "a = int(input())\n",
    "b = int(input())\n",
    "\n",
    "start,end = max(a,b), a*b\n",
    "\n",
    "for i in range(start, end+1):\n",
    "    if i%a == 0 and i%b == 0:\n",
    "        print(i)\n",
    "        break"
   ]
  },
  {
   "cell_type": "code",
   "execution_count": 7,
   "id": "a6c29436",
   "metadata": {},
   "outputs": [
    {
     "name": "stdout",
     "output_type": "stream",
     "text": [
      "10\n",
      "15\n",
      "5\n"
     ]
    }
   ],
   "source": [
    "# 2. Write a Python Program to Find HCF?\n",
    "a = int(input())\n",
    "b = int(input())\n",
    "\n",
    "start, end = 1, min(a,b)\n",
    "ans=1\n",
    "for i in range(start, end+1):\n",
    "    if a%i == 0 and b%i == 0:\n",
    "        ans = i\n",
    "print(ans)"
   ]
  },
  {
   "cell_type": "code",
   "execution_count": 13,
   "id": "d9ef5db8",
   "metadata": {},
   "outputs": [
    {
     "name": "stdout",
     "output_type": "stream",
     "text": [
      "Enter decimal number: 10\n",
      "IN  BINARY: 0b1010\n",
      "IN OCTAL: 0o12\n",
      "IN HEXA: 0xa\n"
     ]
    }
   ],
   "source": [
    "# 3. Write a Python Program to Convert Decimal to Binary, Octal and Hexadecimal?\n",
    "decimal = int(input(\"Enter decimal number: \"))\n",
    "\n",
    "print(f\"IN  BINARY: {bin(decimal)}\")\n",
    "print(f\"IN OCTAL: {oct(decimal)}\")\n",
    "print(f\"IN HEXA: {hex(decimal)}\")"
   ]
  },
  {
   "cell_type": "code",
   "execution_count": 14,
   "id": "7c344667",
   "metadata": {},
   "outputs": [
    {
     "name": "stdout",
     "output_type": "stream",
     "text": [
      "Enter character: a\n",
      "97\n"
     ]
    }
   ],
   "source": [
    "# 4. Write a Python Program To Find ASCII value of a character?\n",
    "n = input(\"Enter character: \")\n",
    "\n",
    "print(ord(n))"
   ]
  },
  {
   "cell_type": "code",
   "execution_count": 12,
   "id": "f97bbf44",
   "metadata": {},
   "outputs": [
    {
     "name": "stdout",
     "output_type": "stream",
     "text": [
      "1. ADDITION\n",
      "2. SUBTRACTION\n",
      "3. MULTIPLICATION\n",
      "4. DIVIDE\n",
      "5. EXIT\n",
      "Enter a: 12\n",
      "Enter b: 12\n",
      "Enter the corresponding number for  operation: 12\n",
      "INVALID CHOICE\n",
      "Enter the corresponding number for  operation: 5\n",
      "THANK YOU...\n"
     ]
    }
   ],
   "source": [
    "# 5. Write a Python Program to Make a Simple Calculator with 4 basic mathematical operations?\n",
    "print(\"1. ADDITION\\n2. SUBTRACTION\\n3. MULTIPLICATION\\n4. DIVIDE\\n5. EXIT\")\n",
    "\n",
    "a = int(input(\"Enter a: \"))\n",
    "b = int(input(\"Enter b: \"))\n",
    "\n",
    "loop = True\n",
    "while(loop):\n",
    "    op = int(input(\"Enter the corresponding number for  operation: \"))\n",
    "    if(op == 1):\n",
    "        print(f\"ADDITION: {a+b}\")\n",
    "    elif(op == 2):\n",
    "        print(f\"SUBTRACTION: {a-b}\")\n",
    "    elif(op == 3):\n",
    "        print(f\"MULTIPLICATOION: {a*b}\")\n",
    "    elif(op == 4):\n",
    "        if(b !=0):\n",
    "            print(f\"DIVISION: {a/b}\")\n",
    "        else:\n",
    "            print(f\"DIVISION NOT POSSIBLE...\")\n",
    "    elif op == 5:\n",
    "        loop=False\n",
    "        print(\"THANK YOU...\")\n",
    "    else:\n",
    "        print(\"INVALID CHOICE\")"
   ]
  },
  {
   "cell_type": "code",
   "execution_count": null,
   "id": "22245660",
   "metadata": {},
   "outputs": [],
   "source": []
  }
 ],
 "metadata": {
  "kernelspec": {
   "display_name": "Python 3",
   "language": "python",
   "name": "python3"
  },
  "language_info": {
   "codemirror_mode": {
    "name": "ipython",
    "version": 3
   },
   "file_extension": ".py",
   "mimetype": "text/x-python",
   "name": "python",
   "nbconvert_exporter": "python",
   "pygments_lexer": "ipython3",
   "version": "3.7.10"
  }
 },
 "nbformat": 4,
 "nbformat_minor": 5
}
