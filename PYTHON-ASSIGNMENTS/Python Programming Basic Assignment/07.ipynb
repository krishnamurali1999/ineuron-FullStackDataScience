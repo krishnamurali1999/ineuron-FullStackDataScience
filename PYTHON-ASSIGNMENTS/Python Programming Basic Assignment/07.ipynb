{
 "cells": [
  {
   "cell_type": "code",
   "execution_count": 3,
   "id": "29890d47",
   "metadata": {},
   "outputs": [
    {
     "name": "stdout",
     "output_type": "stream",
     "text": [
      "Enter numbers with spaces: 1 2 3 4 5\n",
      "sum is 15\n"
     ]
    }
   ],
   "source": [
    "# 1. Write a Python Program to find sum of array?\n",
    "arr = input(\"Enter numbers with spaces: \")\n",
    "arr = arr.split(\" \")\n",
    "arr = list(map(int, arr))\n",
    "\n",
    "print(f\"sum is {sum(arr)}\")"
   ]
  },
  {
   "cell_type": "code",
   "execution_count": 4,
   "id": "d12cebaa",
   "metadata": {},
   "outputs": [
    {
     "name": "stdout",
     "output_type": "stream",
     "text": [
      "Enter numbers with spaces: 3 4 6 1 2 67 56 33 23\n",
      "max is 67\n"
     ]
    }
   ],
   "source": [
    "# 2. Write a Python Program to find largest element in an array?\n",
    "arr = input(\"Enter numbers with spaces: \")\n",
    "arr = arr.split(\" \")\n",
    "arr = list(map(int, arr))\n",
    "\n",
    "print(f\"max is {max(arr)}\")"
   ]
  },
  {
   "cell_type": "code",
   "execution_count": 9,
   "id": "9e4b14d4",
   "metadata": {},
   "outputs": [
    {
     "name": "stdout",
     "output_type": "stream",
     "text": [
      "[[1, 4, 7], [2, 5, 8], [3, 6, 9]]\n"
     ]
    }
   ],
   "source": [
    "# 3. Write a Python Program for array rotation?\n",
    "arr = [[1,2,3],\n",
    "       [4,5,6],\n",
    "       [7,8,9]]\n",
    "\n",
    "res = []\n",
    "for i in range(len(arr)):\n",
    "    t = []\n",
    "    for j in range(len(arr[i])):\n",
    "        t.append(arr[j][i])\n",
    "    res.append(t)\n",
    "print(res)"
   ]
  },
  {
   "cell_type": "code",
   "execution_count": 19,
   "id": "e951058e",
   "metadata": {},
   "outputs": [
    {
     "name": "stdout",
     "output_type": "stream",
     "text": [
      "enter array with spaces: 1 2 3 4 5\n",
      "Enter the part: 2\n",
      "[3, 4, 5, 1, 2]\n"
     ]
    }
   ],
   "source": [
    "# 4. Write a Python Program to Split the array and add the first part to the end?\n",
    "arr = input(\"enter array with spaces: \")\n",
    "arr = arr.split(\" \")\n",
    "arr = list(map(int, arr))\n",
    "\n",
    "part = int(input(\"Enter the part: \"))\n",
    "\n",
    "first_half = arr[:part]\n",
    "second_half = arr[part:]\n",
    "\n",
    "second_half.extend(first_half)\n",
    "print(second_half)"
   ]
  },
  {
   "cell_type": "code",
   "execution_count": 15,
   "id": "b5c83110",
   "metadata": {},
   "outputs": [
    {
     "name": "stdout",
     "output_type": "stream",
     "text": [
      "Enter numbers with white space: 1 2 3 4 67 5 7 9 54\n",
      "False\n"
     ]
    }
   ],
   "source": [
    "# 5. Write a Python Program to check if given array is Monotonic?\n",
    "arr = input(\"Enter numbers with white space: \")\n",
    "arr = arr.split(\" \")\n",
    "arr = list(map(int, arr))\n",
    "\n",
    "inc = all([arr[i] <= arr[i+1] for i in range(len(arr)-1)])\n",
    "dec = all([arr[i] >= arr[i+1] for i in range(len(arr)-1)])    \n",
    "\n",
    "print(f\"{inc or dec}\")"
   ]
  },
  {
   "cell_type": "code",
   "execution_count": null,
   "id": "d64e5e7e",
   "metadata": {},
   "outputs": [],
   "source": []
  }
 ],
 "metadata": {
  "kernelspec": {
   "display_name": "Python 3",
   "language": "python",
   "name": "python3"
  },
  "language_info": {
   "codemirror_mode": {
    "name": "ipython",
    "version": 3
   },
   "file_extension": ".py",
   "mimetype": "text/x-python",
   "name": "python",
   "nbconvert_exporter": "python",
   "pygments_lexer": "ipython3",
   "version": "3.7.10"
  }
 },
 "nbformat": 4,
 "nbformat_minor": 5
}
