{
 "cells": [
  {
   "cell_type": "code",
   "execution_count": 1,
   "id": "animal-lighter",
   "metadata": {},
   "outputs": [
    {
     "name": "stdout",
     "output_type": "stream",
     "text": [
      "Hello Python\n"
     ]
    }
   ],
   "source": [
    "# 1. Write a Python program to print \"Hello Python\"?\n",
    "print(\"Hello Python\")"
   ]
  },
  {
   "cell_type": "code",
   "execution_count": 2,
   "id": "vocational-video",
   "metadata": {},
   "outputs": [
    {
     "name": "stdout",
     "output_type": "stream",
     "text": [
      "Enter a number: 12\n",
      "Enter another number: 4\n",
      "ADDITION OF 12 AND 4: 16\n",
      "DIVISION OF 12 AND 4: 3.0\n"
     ]
    }
   ],
   "source": [
    "# 2. Write a Python program to do arithmetical operations addition and division.?\n",
    "\n",
    "inp1 = int(input(\"Enter a number: \"))\n",
    "inp2 = int(input(\"Enter another number: \"))\n",
    "\n",
    "add = inp1 + inp2\n",
    "div = inp1 / inp2\n",
    "\n",
    "print(f\"ADDITION OF {inp1} AND {inp2}: {add}\")\n",
    "print(f\"DIVISION OF {inp1} AND {inp2}: {div}\")"
   ]
  },
  {
   "cell_type": "code",
   "execution_count": 3,
   "id": "studied-necklace",
   "metadata": {},
   "outputs": [
    {
     "name": "stdout",
     "output_type": "stream",
     "text": [
      "enter base length: 12\n",
      "Enter height: 44\n",
      "AREA OF THE TRIANGLE: 264.0\n"
     ]
    }
   ],
   "source": [
    "# 3. Write a Python program to find the area of a triangle?\n",
    "base = int(input(\"enter base length: \"))\n",
    "height = int(input(\"Enter height: \"))\n",
    "\n",
    "area = (base*height)/2\n",
    "\n",
    "print(f\"AREA OF THE TRIANGLE: {area}\")"
   ]
  },
  {
   "cell_type": "code",
   "execution_count": 4,
   "id": "included-generator",
   "metadata": {},
   "outputs": [
    {
     "name": "stdout",
     "output_type": "stream",
     "text": [
      "enter: abc\n",
      "enter: def\n",
      "BEFORE SWAPPING, inp1:abc AND inp2: def\n",
      "AFTER SWAPPING, inp1:def AND inp2: abc\n"
     ]
    }
   ],
   "source": [
    "# 4. Write a Python program to swap two variables?\n",
    "inp1 = input(\"enter: \")\n",
    "inp2 = input(\"enter: \")\n",
    "\n",
    "print(f\"BEFORE SWAPPING, inp1:{inp1} AND inp2: {inp2}\")\n",
    "inp1, inp2 = inp2, inp1\n",
    "print(f\"AFTER SWAPPING, inp1:{inp1} AND inp2: {inp2}\")"
   ]
  },
  {
   "cell_type": "code",
   "execution_count": 8,
   "id": "aggregate-thumbnail",
   "metadata": {},
   "outputs": [
    {
     "name": "stdout",
     "output_type": "stream",
     "text": [
      "RANDOM NUMBER: 5\n"
     ]
    }
   ],
   "source": [
    "# 5. Write a Python program to generate a random number?\n",
    "import random as rm\n",
    "print(f\"RANDOM NUMBER: {rm.randint(0,9)}\")"
   ]
  },
  {
   "cell_type": "code",
   "execution_count": null,
   "id": "virgin-heather",
   "metadata": {},
   "outputs": [],
   "source": []
  }
 ],
 "metadata": {
  "kernelspec": {
   "display_name": "Python 3",
   "language": "python",
   "name": "python3"
  },
  "language_info": {
   "codemirror_mode": {
    "name": "ipython",
    "version": 3
   },
   "file_extension": ".py",
   "mimetype": "text/x-python",
   "name": "python",
   "nbconvert_exporter": "python",
   "pygments_lexer": "ipython3",
   "version": "3.7.10"
  }
 },
 "nbformat": 4,
 "nbformat_minor": 5
}
